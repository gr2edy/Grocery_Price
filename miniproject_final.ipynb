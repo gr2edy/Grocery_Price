{
 "cells": [
  {
   "cell_type": "markdown",
   "id": "05de5e5f-5286-493b-b551-581d820ee7ef",
   "metadata": {
    "tags": []
   },
   "source": [
    "# 문제 정의\n",
    "## 배경 \n",
    "> - 서울시에 사는 간고등어씨는 음식점을 운영중이며 가게 신메뉴로 고등어구이를 생각하고 있다.\n",
    "> - 고등어구이에 필요한 주요 재료는 고등어이며 그 이외의 기본적인 재료는 기존의 거래하던 거래처에서 추가 납품받을 예정이다.\n",
    "> - 고등어구이에 주요 재료인 고등어를 최대한 저렴한 가격에 구매하고 싶다.\n",
    "\n",
    "## 문제 정의:  고등어구이 판매를 위한 가장 이상적인 고등어 구매처는 어느 매장인가?\n",
    " "
   ]
  },
  {
   "cell_type": "markdown",
   "id": "e78dcf73",
   "metadata": {},
   "source": [
    "![](./2017082901947_1.jpg)"
   ]
  },
  {
   "cell_type": "markdown",
   "id": "f73072c3",
   "metadata": {},
   "source": [
    "\n",
    "Source : http://food.chosun.com/site/data/html_dir/2017/08/29/2017082902034.html"
   ]
  },
  {
   "cell_type": "markdown",
   "id": "55a10769-ac6e-4c7b-9421-8356584b1b9a",
   "metadata": {},
   "source": [
    "## 접근법\n",
    " > - **가장 저렴한 가격**의 고등어를 파는 매장\n",
    " > - **고등어 가격 변동**률이 적은 매장(자치구)"
   ]
  },
  {
   "cell_type": "markdown",
   "id": "7129f54d-f5eb-4f2b-a579-342628749080",
   "metadata": {},
   "source": [
    "# 데이터 수집"
   ]
  },
  {
   "cell_type": "markdown",
   "id": "d40ea526-7f11-4d0f-a21e-19b35ef2813d",
   "metadata": {},
   "source": [
    " > 데이터 출처 (공공데이터, 크롤링 데이터)"
   ]
  },
  {
   "cell_type": "markdown",
   "id": "1872881f-ac2a-43a1-8f30-976957c1b84c",
   "metadata": {},
   "source": [
    "|제목 및 내용|수집 방법|출처|\n",
    "|------|------|---------------|\n",
    "|서울시 생필품 농수축산물 가격 정보|공공데이터|https://data.seoul.go.kr/dataList/OA-1170/S/1/datasetView.do;jsessionid=813B52CA27887C852FFFC41E2B21890B.new_portal-svr-11%7C\n",
    "|판매처 위치 정보|크롤링|https://www.google.co.id/maps%7C"
   ]
  },
  {
   "cell_type": "code",
   "execution_count": null,
   "id": "6cd40849-4633-4402-baab-45ca5316c349",
   "metadata": {
    "jupyter": {
     "source_hidden": true
    },
    "tags": []
   },
   "outputs": [],
   "source": [
    "# ## 크롤링 ##\n",
    "# # 셀레니움 import\n",
    "# from selenium import webdriver\n",
    "# from selenium.webdriver.common.keys import Keys\n",
    "# from selenium.webdriver.support.ui import WebDriverWait\n",
    "# from selenium.webdriver.support import expected_conditions as EC\n",
    "# from selenium.webdriver.common.by import By\n",
    "# import numpy as np\n",
    "# import pandas as pd\n",
    "# from bs4 import BeautifulSoup\n",
    "# import time\n",
    "\n",
    "# # 크롬창 열기\n",
    "# ## 경로설정\n",
    "# path = r'F:\\mycoding\\chromedriver'\n",
    "# # 윈도우 사용자분들\n",
    "# driver = webdriver.Chrome(path)\n",
    "# url = 'https://www.google.com/maps/place/'\n",
    "# driver.get(url)\n",
    "# file = pd.read_csv(r\"F:\\mycoding\\패캠\\데이터분석가 취업\\5_python\\KDT_4\\data\\미니프로젝트\\completed_concat.csv\",encoding='utf-8', index_col = 0).reset_index(drop=True)\n",
    "# file_go = file[file['품목 이름'].str.contains('고등어', na=False)]\n",
    "# file_go_mart = file_go[file_go['시장유형 구분(시장/마트) 이름'] == '대형마트']\n",
    "# file_go_mart = file_go_mart.loc[:,['자치구 이름','시장/마트 이름']].reset_index(drop=True)\n",
    "# file_go_mart = file_go_mart.drop_duplicates().reset_index(drop=True)\n",
    "# file_go_local = file_go[file_go['시장유형 구분(시장/마트) 이름'] == '전통시장']\n",
    "# file_go_local = file_go_local.loc[:,['자치구 이름','시장/마트 이름']].drop_duplicates().reset_index(drop=True)\n",
    "\n",
    "# ## xpath 간편화\n",
    "# def dr_in(x):\n",
    "#     return driver.find_element_by_xpath(x)\n",
    "\n",
    "\n",
    "# data_dict = {}\n",
    "# for i in range(0,len(file_go_local)):\n",
    "#     name1=file_go_local.loc[i,:][0]\n",
    "#     name2=file_go_local.loc[i,:][1]\n",
    "#     driver.find_element_by_xpath('//*[@id=\"searchboxinput\"]').send_keys(f\"{name1} {name2}\\n\")\n",
    "    \n",
    "#     try : \n",
    "#         # 차단막는 코드\n",
    "#         seed = np.random.randint(100) # 무작위 정수 뽑아줌 -> 숫자가 시작되는 시작 포인트\n",
    "#         np.random.seed(seed)\n",
    "#         a = np.random.randint(5) # 무작위 시드에서 무작위 정수를 뽑음\n",
    "#         time.sleep(a)\n",
    "        \n",
    "#         # 구글 검색 완료될때까지 대기\n",
    "#         driver_wait = WebDriverWait(driver, 10)\n",
    "#         targets = EC.presence_of_all_elements_located((By.CSS_SELECTOR, \"div.gb_wf\"))\n",
    "#         e_list = driver_wait.until(targets)\n",
    "\n",
    "\n",
    "#         address_code = driver.find_element_by_xpath('//*[@id=\"gb_70\"]').get_attribute('href').split('!3d')[1].split('&s')[0].split('!4d')\n",
    "#         data_dict[name2] = address_code\n",
    "#         driver.find_element_by_xpath('//*[@id=\"searchboxinput\"]').clear()\n",
    "#         print(len(data_dict))\n",
    "#     except : \n",
    "#         driver.find_element_by_xpath('//*[@id=\"searchboxinput\"]').clear()\n",
    "#         seed = np.random.randint(100) # 무작위 정수 뽑아줌 -> 숫자가 시작되는 시작 포인트\n",
    "#         np.random.seed(seed)\n",
    "#         a = np.random.randint(5) # 무작위 시드에서 무작위 정수를 뽑음\n",
    "#         time.sleep(a)"
   ]
  },
  {
   "cell_type": "markdown",
   "id": "99bd216c-e59f-4ec4-b536-91cf398d7828",
   "metadata": {},
   "source": [
    "# 데이터 탐색 및 전처리"
   ]
  },
  {
   "cell_type": "markdown",
   "id": "fd9443c8-730f-43a3-96ff-aeb3a9043099",
   "metadata": {},
   "source": [
    "## 데이터 통합"
   ]
  },
  {
   "cell_type": "code",
   "execution_count": null,
   "id": "d5eb8b9c-4960-4cb4-948f-4d0975f50c87",
   "metadata": {
    "ExecuteTime": {
     "end_time": "2022-03-31T01:02:56.133820Z",
     "start_time": "2022-03-31T01:02:56.112844Z"
    },
    "tags": []
   },
   "outputs": [],
   "source": [
    "import seaborn as sns\n",
    "import numpy as np\n",
    "import matplotlib.pyplot as plt\n",
    "%matplotlib inline\n",
    "import statistics\n",
    "import pandas as pd\n",
    "import warnings\n",
    "warnings.filterwarnings('ignore')\n"
   ]
  },
  {
   "cell_type": "code",
   "execution_count": null,
   "id": "ba7c37e9-1070-4612-8e8d-a275f8e545b3",
   "metadata": {
    "ExecuteTime": {
     "end_time": "2022-03-31T01:02:56.163705Z",
     "start_time": "2022-03-31T01:02:56.136779Z"
    },
    "tags": []
   },
   "outputs": [],
   "source": [
    "# 사용자 운영체제 확인\n",
    "import os\n",
    "os.name\n",
    "\n",
    "# 운영체제별 한글 폰트 설정\n",
    "if os.name == 'posix': # Mac 환경 폰트 설정\n",
    "    plt.rc('font', family='AppleGothic')\n",
    "elif os.name == 'nt': # Windows 환경 폰트 설정\n",
    "    plt.rc('font', family='Malgun Gothic')\n",
    "\n",
    "plt.rc('axes', unicode_minus=False) # 마이너스 폰트 설정\n",
    "\n",
    "# 글씨 선명하게 출력하기 \n",
    "%config InlineBackend.figure_format = 'retina'"
   ]
  },
  {
   "cell_type": "code",
   "execution_count": null,
   "id": "92432295-9b39-47e8-a6d9-e8af71fd7838",
   "metadata": {
    "ExecuteTime": {
     "end_time": "2022-03-31T01:02:57.765123Z",
     "start_time": "2022-03-31T01:02:56.167691Z"
    },
    "tags": []
   },
   "outputs": [],
   "source": [
    "data1 = pd.read_csv('/Users/greedy/Downloads/패스트캠퍼스/데이터 전처리/생필품 농수축산물 가격 정보(2020년).csv', encoding = 'euc-kr')\n",
    "data2 = pd.read_csv('/Users/greedy/Downloads/패스트캠퍼스/데이터 전처리/생필품 농수축산물 가격 정보(2019년).csv', encoding = 'euc-kr')\n",
    "data3 = pd.read_csv('/Users/greedy/Downloads/패스트캠퍼스/데이터 전처리/생필품 농수축산물 가격 정보(2018년).csv', encoding = 'euc-kr')\n",
    "data4 = pd.read_csv('/Users/greedy/Downloads/패스트캠퍼스/데이터 전처리/생필품 농수축산물 가격 정보(2013년_2017년).csv', encoding = 'euc-kr')"
   ]
  },
  {
   "cell_type": "code",
   "execution_count": null,
   "id": "f7fbd989-16dd-46fb-9456-a7ddf2c7a531",
   "metadata": {
    "ExecuteTime": {
     "end_time": "2022-03-31T01:02:58.007448Z",
     "start_time": "2022-03-31T01:02:57.771105Z"
    }
   },
   "outputs": [],
   "source": [
    "df = pd.concat([data1,data2,data3,data4]).reset_index(drop = True)"
   ]
  },
  {
   "cell_type": "code",
   "execution_count": null,
   "id": "a417e527-6898-4439-8cdc-c7889eaec89e",
   "metadata": {
    "ExecuteTime": {
     "end_time": "2022-03-31T01:02:58.067285Z",
     "start_time": "2022-03-31T01:02:58.011443Z"
    },
    "scrolled": true
   },
   "outputs": [],
   "source": [
    "df"
   ]
  },
  {
   "cell_type": "markdown",
   "id": "acfb22d7-e27d-4a0e-92a3-076b1ea94299",
   "metadata": {},
   "source": [
    "## 시간순(년도-월)으로 정렬"
   ]
  },
  {
   "cell_type": "code",
   "execution_count": null,
   "id": "bb9fdb47-bcd0-43c3-8dd4-071e386715c0",
   "metadata": {
    "ExecuteTime": {
     "end_time": "2022-03-31T01:02:58.475604Z",
     "start_time": "2022-03-31T01:02:58.071274Z"
    }
   },
   "outputs": [],
   "source": [
    "df.sort_values(by=['년도-월'], inplace = True)"
   ]
  },
  {
   "cell_type": "code",
   "execution_count": null,
   "id": "fffec1c7-d7e6-4c7d-af59-e2f96f0a5806",
   "metadata": {
    "ExecuteTime": {
     "end_time": "2022-03-31T01:02:58.535447Z",
     "start_time": "2022-03-31T01:02:58.482599Z"
    },
    "scrolled": true
   },
   "outputs": [],
   "source": [
    "df"
   ]
  },
  {
   "cell_type": "code",
   "execution_count": null,
   "id": "97178858-36e7-45c9-bdd9-af7c8dcd3983",
   "metadata": {
    "ExecuteTime": {
     "end_time": "2022-03-31T01:02:58.746892Z",
     "start_time": "2022-03-31T01:02:58.539434Z"
    }
   },
   "outputs": [],
   "source": [
    "df.info()"
   ]
  },
  {
   "cell_type": "code",
   "execution_count": null,
   "id": "5381ae3e-d27f-48d4-8415-e1fbfabead8c",
   "metadata": {
    "ExecuteTime": {
     "end_time": "2022-03-31T01:02:58.900421Z",
     "start_time": "2022-03-31T01:02:58.749844Z"
    }
   },
   "outputs": [],
   "source": [
    "df.describe().round(2)"
   ]
  },
  {
   "cell_type": "markdown",
   "id": "607773dd-8637-484f-9622-921562b87af8",
   "metadata": {},
   "source": [
    "## 데이터 nan값 확인 및 제거"
   ]
  },
  {
   "cell_type": "markdown",
   "id": "1b3f8704-2b61-4334-a041-e487c33eb81b",
   "metadata": {},
   "source": [
    "> file 데이터 내부 품목 이름 컬럼 nan값 확인 및 제거\n",
    "> 1. 348414개의 데이터중 13개의 nan값을 확인\n",
    "> 2. 13개의 nan값 모두 품목 이름 컬럼에 존재"
   ]
  },
  {
   "cell_type": "code",
   "execution_count": null,
   "id": "7d9db37b-3c86-4184-a8ee-8683d4b2e813",
   "metadata": {
    "ExecuteTime": {
     "end_time": "2022-03-31T01:02:59.096911Z",
     "start_time": "2022-03-31T01:02:58.906406Z"
    }
   },
   "outputs": [],
   "source": [
    "df.isna().sum()"
   ]
  },
  {
   "cell_type": "code",
   "execution_count": null,
   "id": "53f30b02-1aba-4b13-8460-b32606eea577",
   "metadata": {
    "ExecuteTime": {
     "end_time": "2022-03-31T01:02:59.219527Z",
     "start_time": "2022-03-31T01:02:59.100858Z"
    }
   },
   "outputs": [],
   "source": [
    "# nan 확인\n",
    "df.dropna(subset=['품목 이름'], inplace=True)\n",
    "df.shape"
   ]
  },
  {
   "cell_type": "markdown",
   "id": "1a3ec738-26de-4c5c-a917-bbdef4dc7c17",
   "metadata": {},
   "source": [
    "## 전체 품목중에서 고등어 품목으로 검색\n"
   ]
  },
  {
   "cell_type": "markdown",
   "id": "928e6350-d3a9-481b-989e-d23fb626a1dc",
   "metadata": {},
   "source": [
    "> 품목 이름 중에서 **[고등어]** keyword를 포함하는 데이터 추출 "
   ]
  },
  {
   "cell_type": "code",
   "execution_count": null,
   "id": "96894d68-164b-4c1a-894f-961425a21661",
   "metadata": {
    "ExecuteTime": {
     "end_time": "2022-03-31T01:02:59.522934Z",
     "start_time": "2022-03-31T01:02:59.221518Z"
    }
   },
   "outputs": [],
   "source": [
    "## 고등어 품목이름 포함 df 출력\n",
    "file_go = df[df['품목 이름'].str.contains('고등어')]"
   ]
  },
  {
   "cell_type": "markdown",
   "id": "9c226d66-6975-48ad-9459-23690539a63b",
   "metadata": {},
   "source": [
    "> file_go로 데이터 저장"
   ]
  },
  {
   "cell_type": "code",
   "execution_count": null,
   "id": "3948844e-928f-418d-84b9-d67b7ef0ea45",
   "metadata": {
    "ExecuteTime": {
     "end_time": "2022-03-31T01:02:59.537931Z",
     "start_time": "2022-03-31T01:02:59.525932Z"
    }
   },
   "outputs": [],
   "source": [
    "file_go['품목 이름'].value_counts()"
   ]
  },
  {
   "cell_type": "markdown",
   "id": "a295a103-974c-4931-9c87-5dc085e97018",
   "metadata": {},
   "source": [
    "> 고등어 상품의 종류(고등어, 국산/생물, 국산/냉동, 수입산/생물, 수입산/냉동, 30cm 국산, 30cm 수입산)"
   ]
  },
  {
   "cell_type": "markdown",
   "id": "e0e1a563-43b2-4e47-aff6-3401fe93b29f",
   "metadata": {},
   "source": [
    "> 고등어 상품의 종류에서 (30cm 국산, 30cm 수입산, 고등어)의 데이터를 (국산/생물, 국산/냉동, 수입산/생물, 수입산/냉동) 에 포함시키는 과정\\\n",
    "> 비고 컬럼의 키워드를 바탕으로 (국산/생물, 국산/냉동, 수입산/생물, 수입산/냉동)의 하위 데이터로 편입\n",
    ">> 30cm 국산은 고등어(생물, 국산) 데이터로 통합\\\n",
    ">> 30cm 수입산은 고등어(냉동, 수입산) 데이터로 통합\n",
    "\n",
    ">>근거 자료 : https://slds2.tistory.com/2332"
   ]
  },
  {
   "cell_type": "code",
   "execution_count": null,
   "id": "d95c66d9-f9cb-4cb1-9d27-d52c79bc799b",
   "metadata": {
    "ExecuteTime": {
     "end_time": "2022-03-31T01:02:59.600195Z",
     "start_time": "2022-03-31T01:02:59.572271Z"
    }
   },
   "outputs": [],
   "source": [
    "file_go.loc[file_go['품목 이름'] == '고등어(30cm,수입산)','품목 이름'] = '고등어(냉동,수입산)'\n",
    "file_go.loc[file_go['품목 이름'] == '고등어(30cm,국산)','품목 이름'] = '고등어(생물,국산)'"
   ]
  },
  {
   "cell_type": "code",
   "execution_count": null,
   "id": "7bf38ed1-57f9-44b5-b0d8-1c4cfa4880a0",
   "metadata": {
    "ExecuteTime": {
     "end_time": "2022-03-31T01:02:59.630108Z",
     "start_time": "2022-03-31T01:02:59.605181Z"
    }
   },
   "outputs": [],
   "source": [
    "file_go['품목 이름'].value_counts()"
   ]
  },
  {
   "cell_type": "markdown",
   "id": "0673aa24-23d8-45bb-aa5e-00da808251e0",
   "metadata": {},
   "source": [
    "> 데이터 내의 비고 컬럼에 적혀져 있는 키워드를 바탕으로 위에서 정한 4개의 컬럼으로 분류하는 작업 실시\\\n",
    "> 국내, 노르웨이, 생물, 해동과 같이 정확한 유추가 가능한 데이터 외에 nan값에 대해서는 class분류가 불가능하기 때문에 제거"
   ]
  },
  {
   "cell_type": "code",
   "execution_count": null,
   "id": "3fa80611",
   "metadata": {
    "ExecuteTime": {
     "end_time": "2022-03-31T01:02:59.569283Z",
     "start_time": "2022-03-31T01:02:59.541887Z"
    }
   },
   "outputs": [],
   "source": [
    "file_go['비고'].value_counts()"
   ]
  },
  {
   "cell_type": "code",
   "execution_count": null,
   "id": "a16d3e1d-45c1-420c-bf09-08827ad4f1bf",
   "metadata": {
    "ExecuteTime": {
     "end_time": "2022-03-31T01:02:59.737809Z",
     "start_time": "2022-03-31T01:02:59.633100Z"
    }
   },
   "outputs": [],
   "source": [
    "#품목 이름 == 고등어  비고란 내 값을 통해 dom(국내), imp(수입), nat(생물), ice(냉동)\n",
    "dom1 = file_go[file_go['비고'].str.contains('국내', na = False)]\n",
    "imp1 = file_go[file_go['비고'].str.contains('노르웨이|수입|해외', na = False)]\n",
    "nat1 = file_go[file_go['비고'].str.contains('생물', na = False)]\n",
    "ice1 = file_go[file_go['비고'].str.contains('냉동 | 해동', na = False)]"
   ]
  },
  {
   "cell_type": "code",
   "execution_count": null,
   "id": "8c171c34-75f1-40d7-be7c-9d39dfafb65a",
   "metadata": {
    "ExecuteTime": {
     "end_time": "2022-03-31T01:02:59.813594Z",
     "start_time": "2022-03-31T01:02:59.740800Z"
    }
   },
   "outputs": [],
   "source": [
    "#국내 & 생물\n",
    "dom_nat1 = pd.merge(dom1, nat1, how = 'inner', on = '일련번호')\n",
    "#국내 & 냉동\n",
    "dom_ice1 = pd.merge(dom1, ice1, how = 'inner', on = '일련번호')\n",
    "#수입 & 생물\n",
    "imp_nat1 = pd.merge(imp1, nat1, how = 'inner', on = '일련번호')\n",
    "#수입 & 냉동\n",
    "imp_ice1 = pd.merge(imp1, ice1, how = 'inner', on = '일련번호')"
   ]
  },
  {
   "cell_type": "code",
   "execution_count": null,
   "id": "253c02a8-ae84-4512-8b1a-71b51e459b1f",
   "metadata": {
    "ExecuteTime": {
     "end_time": "2022-03-31T01:02:59.828552Z",
     "start_time": "2022-03-31T01:02:59.816586Z"
    }
   },
   "outputs": [],
   "source": [
    "print('국내 : ', len(dom1))\n",
    "print('생물 : ', len(nat1))\n",
    "print('수입 : ', len(imp1))     \n",
    "print('냉동 : ', len(ice1))\n",
    "print('합계 : ', len(dom1)+len(nat1)+len(imp1)+len(ice1))"
   ]
  },
  {
   "cell_type": "code",
   "execution_count": null,
   "id": "6e876c8e-bce0-43e6-b420-18ab45ef27a7",
   "metadata": {
    "ExecuteTime": {
     "end_time": "2022-03-31T01:02:59.859466Z",
     "start_time": "2022-03-31T01:02:59.832541Z"
    }
   },
   "outputs": [],
   "source": [
    "print('국내 & 생물 : ', len(dom_nat1))\n",
    "print('국내 & 냉동 : ', len(dom_ice1))\n",
    "print('수입 & 생물 : ', len(imp_nat1))     \n",
    "print('수입 & 냉동 : ', len(imp_ice1))\n",
    "print('합계 :', len(dom_nat1)+len(dom_ice1)+len(imp_nat1)+len(imp_ice1))"
   ]
  },
  {
   "cell_type": "code",
   "execution_count": null,
   "id": "879fd888-4641-4f84-9ead-84ecfa653055",
   "metadata": {
    "ExecuteTime": {
     "end_time": "2022-03-31T01:03:00.027993Z",
     "start_time": "2022-03-31T01:02:59.953203Z"
    }
   },
   "outputs": [],
   "source": [
    "file_go_ = file_go[file_go['품목 이름'] == '고등어']\n",
    "\n",
    "#품목 이름 == 고등어(생물,국산)  비고란 내 값을 통해 dom(국내), imp(수입), nat(생물), ice(냉동)\n",
    "dom2 = file_go_[file_go_['비고'].str.contains('국내|부산|제주|여수|ㅈ주|육지도|욕지|동해안|벌교|목포|무산|충청|원양|qntks|강원도|포구|포항|', na = False)]\n",
    "imp2 = file_go_[file_go_['비고'].str.contains('노르|수입|해외|노루|노로|놀웨|러시아|스코|영국|일본|중국', na= False)]\n",
    "nat2 = file_go_[file_go_['비고'].str.contains('생물', na = False)]\n",
    "ice2 = file_go_[file_go_['비고'].str.contains('냉동|해동|비축', na = False)]\n",
    "\n",
    "#국내 & 생물\n",
    "dom_nat2 = pd.merge(dom2, nat2, how = 'inner', on = ['일련번호', '시장/마트 번호', '시장/마트 이름', '품목 번호', '품목 이름', '실판매규격',\n",
    "       '가격(원)', '년도-월', '비고', '시장유형 구분(시장/마트) 코드', '시장유형 구분(시장/마트) 이름',\n",
    "       '자치구 코드', '자치구 이름', '점검일자'])\n",
    "dom_nat2['품목 이름'] = '고등어(생물,국산)'\n",
    "\n",
    "#국내 & 냉동\n",
    "dom_ice2 = pd.merge(dom2, ice2, how = 'inner', on = ['일련번호', '시장/마트 번호', '시장/마트 이름', '품목 번호', '품목 이름', '실판매규격',\n",
    "       '가격(원)', '년도-월', '비고', '시장유형 구분(시장/마트) 코드', '시장유형 구분(시장/마트) 이름',\n",
    "       '자치구 코드', '자치구 이름', '점검일자'])\n",
    "dom_ice2['품목 이름'] = '고등어(냉동,국산)'\n",
    "#수입 & 생물\n",
    "imp_nat2 = pd.merge(imp2, nat2, how = 'inner', on = ['일련번호', '시장/마트 번호', '시장/마트 이름', '품목 번호', '품목 이름', '실판매규격',\n",
    "       '가격(원)', '년도-월', '비고', '시장유형 구분(시장/마트) 코드', '시장유형 구분(시장/마트) 이름',\n",
    "       '자치구 코드', '자치구 이름', '점검일자'])\n",
    "imp_nat2['품목 이름'] = '고등어(생물,수입산)'\n",
    "#수입 & 냉동\n",
    "imp_ice2 = pd.merge(imp2, ice2, how = 'inner', on = ['일련번호', '시장/마트 번호', '시장/마트 이름', '품목 번호', '품목 이름', '실판매규격',\n",
    "       '가격(원)', '년도-월', '비고', '시장유형 구분(시장/마트) 코드', '시장유형 구분(시장/마트) 이름',\n",
    "       '자치구 코드', '자치구 이름', '점검일자'])\n",
    "imp_ice2['품목 이름'] = '고등어(냉동,수입산)'\n",
    "print('국내 : ', len(dom2))\n",
    "print('생물 : ', len(nat2))\n",
    "print('수입 : ', len(imp2))\n",
    "print('냉동 : ', len(ice2))\n",
    "print('합계 : ', len(dom2) + len(nat2) + len(imp2) + len(ice2))\n",
    "\n",
    "print('국내 & 생물 : ', len(dom_nat2))\n",
    "print('국내 & 냉동 : ', len(dom_ice2))\n",
    "print('수입 & 생물 : ', len(imp_nat2))     \n",
    "print('수입 & 냉동 : ', len(imp_ice2))\n",
    "print('합계 :', len(dom_nat2) + len(dom_ice2) + len(imp_nat2) + len(imp_ice2) )\n",
    "\n",
    "#고등어 비고란 분류 후 4개 품목 안에 재정리\n",
    "file_dom_nat = pd.concat([file_go[file_go['품목 이름']=='고등어(생물,국산)'], dom_nat2], axis = 0)\n",
    "file_imp_nat = pd.concat([file_go[file_go['품목 이름']=='고등어(생물,수입산)'], imp_nat2], axis = 0)\n",
    "file_dom_ice = pd.concat([file_go[file_go['품목 이름']=='고등어(냉동,국산)'], dom_ice2], axis = 0)\n",
    "file_imp_ice = pd.concat([file_go[file_go['품목 이름']=='고등어(냉동,수입산)'], imp_ice2], axis = 0)\n",
    "print('------------------------')\n",
    "print('국내 생물 : ',len(file_dom_nat))\n",
    "print('수입 생물 : ',len(file_imp_nat))\n",
    "print('국내 냉동 : ',len(file_dom_ice))\n",
    "print('수입 냉동 : ',len(file_imp_ice))\n",
    "\n",
    "file_go = pd.concat([file_dom_nat, file_imp_nat, file_dom_ice, file_imp_ice])"
   ]
  },
  {
   "cell_type": "markdown",
   "id": "d0193931-32ce-41cf-8867-9519af008f17",
   "metadata": {},
   "source": [
    "## 이상치 제거"
   ]
  },
  {
   "cell_type": "markdown",
   "id": "35c58576-7030-4e98-838f-afea5ac8e3dd",
   "metadata": {},
   "source": [
    "> 고등어 관련 데이터의 가격을 출력\n",
    ">> 고등어 가격이 0원인 경우 = 미입고, 재고없음, 공사중, 금어기 등\\\n",
    ">> 고등어 1마리 가격 = 35002980원인 경우 -> 휴먼에러\\\n",
    ">> **고등어 가격을 Boxplot 상자도표를 통한 이상치 탐지 및 해당 데이터를 이상치 내의 가격에서 최대값으로 보정**"
   ]
  },
  {
   "cell_type": "code",
   "execution_count": null,
   "id": "6b1386a2-9358-4254-86e0-7b652fb0da38",
   "metadata": {
    "ExecuteTime": {
     "end_time": "2022-03-31T01:03:00.211891Z",
     "start_time": "2022-03-31T01:03:00.193940Z"
    }
   },
   "outputs": [],
   "source": [
    "file_go['가격(원)'].sort_values()"
   ]
  },
  {
   "cell_type": "code",
   "execution_count": null,
   "id": "a7fc7c2c-55eb-4a27-9c8b-efdb56e22075",
   "metadata": {
    "ExecuteTime": {
     "end_time": "2022-03-31T01:03:01.858943Z",
     "start_time": "2022-03-31T01:03:00.214881Z"
    },
    "tags": []
   },
   "outputs": [],
   "source": [
    "file_go.boxplot(column=['가격(원)'])"
   ]
  },
  {
   "cell_type": "code",
   "execution_count": null,
   "id": "7cd69d79-7dd3-4054-93e0-f1a457c1c06f",
   "metadata": {
    "ExecuteTime": {
     "end_time": "2022-03-31T01:03:01.888761Z",
     "start_time": "2022-03-31T01:03:01.861937Z"
    }
   },
   "outputs": [],
   "source": [
    "# 가격(원) 컬럼에서 최대값 제거\n",
    "file_go.drop(file_go['가격(원)'].idxmax(), inplace= True)"
   ]
  },
  {
   "cell_type": "code",
   "execution_count": null,
   "id": "ae7577a3-ef36-4f9a-bff2-c1812731e042",
   "metadata": {},
   "outputs": [],
   "source": [
    "file_go.boxplot(column=['가격(원)'])"
   ]
  },
  {
   "cell_type": "markdown",
   "id": "a2ae9222-a99f-4d85-9d03-6935a84651cd",
   "metadata": {},
   "source": [
    "> 이상치 기준값 수식\n",
    "$$ y = Q3 + (1.5*IQR) $$       $$ [IQR = Q3 - Q1]$$"
   ]
  },
  {
   "cell_type": "code",
   "execution_count": null,
   "id": "a3bbdefe-0dfb-4d19-bd3b-0c03e6fe111e",
   "metadata": {
    "ExecuteTime": {
     "end_time": "2022-03-31T01:03:01.966576Z",
     "start_time": "2022-03-31T01:03:01.894745Z"
    }
   },
   "outputs": [],
   "source": [
    "q3 = file_go.describe()['가격(원)']['75%']\n",
    "q1 = file_go.describe()['가격(원)']['25%']\n",
    "iqr= q3-q1\n",
    "outlier = q3+(1.5*iqr)"
   ]
  },
  {
   "cell_type": "code",
   "execution_count": null,
   "id": "443e7224-0e32-4a82-a5c8-f6efc0a73385",
   "metadata": {
    "ExecuteTime": {
     "end_time": "2022-03-31T01:03:01.981507Z",
     "start_time": "2022-03-31T01:03:01.969535Z"
    }
   },
   "outputs": [],
   "source": [
    "outlier"
   ]
  },
  {
   "cell_type": "code",
   "execution_count": null,
   "id": "d9ad653c",
   "metadata": {
    "ExecuteTime": {
     "end_time": "2022-03-31T01:03:02.011419Z",
     "start_time": "2022-03-31T01:03:01.984493Z"
    }
   },
   "outputs": [],
   "source": [
    "file_go.drop(file_go.loc[file_go['가격(원)'] > outlier,['가격(원)']].index, inplace=True)"
   ]
  },
  {
   "cell_type": "code",
   "execution_count": null,
   "id": "4afd3d2c-f3f3-4240-aea7-c219a3cac1d9",
   "metadata": {
    "ExecuteTime": {
     "end_time": "2022-03-31T01:03:02.026375Z",
     "start_time": "2022-03-31T01:03:02.014417Z"
    }
   },
   "outputs": [],
   "source": [
    "#이상값 전부 기준으로 통일\n",
    "# file_go.loc[file_go['가격(원)'] > outlier,'가격(원)'] = outlier"
   ]
  },
  {
   "cell_type": "code",
   "execution_count": null,
   "id": "891a26c3-4dd5-40a1-81b6-73b3e3949f56",
   "metadata": {
    "ExecuteTime": {
     "end_time": "2022-03-31T01:03:02.057288Z",
     "start_time": "2022-03-31T01:03:02.029367Z"
    }
   },
   "outputs": [],
   "source": [
    "file_go.drop(file_go.loc[file_go['가격(원)']==0,['가격(원)']].index, inplace=True)"
   ]
  },
  {
   "cell_type": "code",
   "execution_count": null,
   "id": "e1fc9f77-763c-44f9-a37a-5fe2f09cb854",
   "metadata": {
    "ExecuteTime": {
     "end_time": "2022-03-31T01:03:02.088202Z",
     "start_time": "2022-03-31T01:03:02.060279Z"
    }
   },
   "outputs": [],
   "source": [
    "file_go.isna().sum()"
   ]
  },
  {
   "cell_type": "code",
   "execution_count": null,
   "id": "b9ee3460-cfe2-4780-b4cb-9657f7123b46",
   "metadata": {
    "ExecuteTime": {
     "end_time": "2022-03-31T01:03:02.118120Z",
     "start_time": "2022-03-31T01:03:02.092190Z"
    }
   },
   "outputs": [],
   "source": [
    "file_go['가격(원)'].sort_values()"
   ]
  },
  {
   "cell_type": "code",
   "execution_count": null,
   "id": "41074ae6-ef6b-4eed-9482-c38d067281ba",
   "metadata": {
    "ExecuteTime": {
     "end_time": "2022-03-31T01:03:02.359442Z",
     "start_time": "2022-03-31T01:03:02.121110Z"
    }
   },
   "outputs": [],
   "source": [
    "file_go.boxplot(column=['가격(원)'])"
   ]
  },
  {
   "cell_type": "markdown",
   "id": "662a1b72-2387-418c-b00c-e237a289b094",
   "metadata": {},
   "source": [
    "## 고등어 묶음 판매 가격데이터를 1마리 가격 데이터로 변환"
   ]
  },
  {
   "cell_type": "markdown",
   "id": "6cc4604f-8836-4eb7-a847-18be9d8ef573",
   "metadata": {},
   "source": [
    "> 실판매규격 컬럼에서 2~5개의 묶음 데이터가 있으며, 단위(마리, 마, 미, 개)를 포함하는 가격 추출 후 가격을 묶음 수로 나눠줌"
   ]
  },
  {
   "cell_type": "code",
   "execution_count": null,
   "id": "7fc5a296-26a8-4951-81e7-493eebbb5825",
   "metadata": {
    "ExecuteTime": {
     "end_time": "2022-03-31T01:03:02.404344Z",
     "start_time": "2022-03-31T01:03:02.362432Z"
    }
   },
   "outputs": [],
   "source": [
    "file_go.info()"
   ]
  },
  {
   "cell_type": "markdown",
   "id": "c11608ae-e91e-4a4e-9ce7-2b6519b388b8",
   "metadata": {},
   "source": [
    "> 2묶음 고등어 데이터 변환"
   ]
  },
  {
   "cell_type": "code",
   "execution_count": null,
   "id": "cdf53022-5b28-44b0-9b4b-7ea219560d48",
   "metadata": {
    "ExecuteTime": {
     "end_time": "2022-03-31T01:03:03.118308Z",
     "start_time": "2022-03-31T01:03:03.095391Z"
    }
   },
   "outputs": [],
   "source": [
    "#해당 조건에 맞는 df 가져오기\n",
    "\n",
    "two_index = file_go[(file_go['실판매규격'].str.contains('2마|2미|2개'))&(file_go['가격(원)'] >= 3900)].index\n",
    "two = file_go.loc[two_index]\n",
    "\n",
    "three_index = file_go[(file_go['실판매규격'].str.contains('3마|3미|3개'))&(file_go['가격(원)'] >= 3000)].index\n",
    "three = file_go.loc[three_index]\n",
    "\n",
    "four_index = file_go[(file_go['실판매규격'].str.contains('4마|4미|4개'))&(file_go['가격(원)'] >= 3000)].index\n",
    "four = file_go.loc[four_index]\n",
    "\n",
    "five_index = file_go[(file_go['실판매규격'].str.contains('5마|5미|5개'))&(file_go['가격(원)'] >= 3000)].index\n",
    "five = file_go.loc[five_index]\n",
    "#가격 조정\n",
    "\n",
    "file_go.drop(two_index, inplace = True)\n",
    "file_go.drop(three_index, inplace = True)\n",
    "file_go.drop(four_index, inplace = True)\n",
    "file_go.drop(five_index, inplace = True)\n",
    "\n",
    "two['가격(원)'] = two['가격(원)'].apply(lambda x: x / 2)\n",
    "three['가격(원)'] = three['가격(원)'].apply(lambda x: x / 3)\n",
    "four['가격(원)'] = four['가격(원)'].apply(lambda x: x / 4)\n",
    "five['가격(원)'] = five['가격(원)'].apply(lambda x: x / 5)\n",
    "\n",
    "\n",
    "file_go = pd.concat([file_go,two,three,four,five])"
   ]
  },
  {
   "cell_type": "code",
   "execution_count": null,
   "id": "32d17ac5-8eae-4abd-9d20-63188fc855b0",
   "metadata": {},
   "outputs": [],
   "source": [
    "file_go.info()"
   ]
  },
  {
   "cell_type": "code",
   "execution_count": null,
   "id": "43eb3aa1-8b35-45ab-806f-4fa58f30d6ba",
   "metadata": {
    "ExecuteTime": {
     "end_time": "2022-03-31T01:03:03.210051Z",
     "start_time": "2022-03-31T01:03:03.168169Z"
    }
   },
   "outputs": [],
   "source": [
    "file_go.isnull().sum()"
   ]
  },
  {
   "cell_type": "markdown",
   "id": "1153efed-7a1d-4faf-bd82-38fc2354c227",
   "metadata": {},
   "source": [
    "# 데이터 시각화"
   ]
  },
  {
   "cell_type": "markdown",
   "id": "bd4bab48-b50d-4e56-8d35-4846347b5eec",
   "metadata": {},
   "source": [
    "> 시각화 과정에서 같은 장소가 띄어쓰기 문제로 별개의 장소로 인식되는 문제점을 발견\\\n",
    "> 장소 단일화를 수행\\\n",
    "> e.g.)   이마트 왕십리점 | 이마트왕십리점"
   ]
  },
  {
   "cell_type": "code",
   "execution_count": null,
   "id": "1113598d-5f1d-424f-96a4-4e1d52099b99",
   "metadata": {
    "ExecuteTime": {
     "end_time": "2022-03-31T01:03:03.239969Z",
     "start_time": "2022-03-31T01:03:03.214040Z"
    }
   },
   "outputs": [],
   "source": [
    "file_go['시장/마트 이름'] = file_go[\"시장/마트 이름\"].str.replace(' ','')"
   ]
  },
  {
   "cell_type": "markdown",
   "id": "20191322-4f2d-4a43-9f2b-7465d81b9d12",
   "metadata": {},
   "source": [
    ">시간데이터에서 Year와 month을 추출"
   ]
  },
  {
   "cell_type": "code",
   "execution_count": null,
   "id": "54522026-05a6-42e5-b28e-059e0c192a23",
   "metadata": {
    "ExecuteTime": {
     "end_time": "2022-03-31T01:03:03.284844Z",
     "start_time": "2022-03-31T01:03:03.243958Z"
    }
   },
   "outputs": [],
   "source": [
    "## 년도 컬럼 추가\n",
    "file_go['년도'] = file_go['년도-월'].str[:4]\n",
    "file_go['월'] = file_go['년도-월'].str[5:]"
   ]
  },
  {
   "cell_type": "code",
   "execution_count": null,
   "id": "ada89ac6-3850-4c8c-a734-d2627c03eb44",
   "metadata": {
    "ExecuteTime": {
     "end_time": "2022-03-31T01:03:17.880914Z",
     "start_time": "2022-03-31T01:03:17.841066Z"
    }
   },
   "outputs": [],
   "source": [
    "file_go.head(5)"
   ]
  },
  {
   "cell_type": "markdown",
   "id": "e637fe31-52b1-4cd7-9e7f-2d2134df90dc",
   "metadata": {},
   "source": [
    "## 서울시에서 유통되는 고등어의 품목별 점유율"
   ]
  },
  {
   "cell_type": "code",
   "execution_count": null,
   "id": "fade0c8d-d65a-4ba0-9660-6a6c8f1367e0",
   "metadata": {
    "scrolled": true
   },
   "outputs": [],
   "source": [
    "plt.pie(file_go['품목 이름'].value_counts(), autopct = '%.1f%%', startangle=260, counterclock=False)\n",
    "plt.legend(file_go['품목 이름'].value_counts().index)\n",
    "plt.show()"
   ]
  },
  {
   "cell_type": "markdown",
   "id": "2fffef92",
   "metadata": {},
   "source": [
    "> 유통되는 품목의 대부분은 고등어(생물,국산)이었음을 확인할 수 있었습니다."
   ]
  },
  {
   "cell_type": "markdown",
   "id": "0aa304cf-87c4-46af-91c6-6f7cc0bf38c4",
   "metadata": {},
   "source": [
    "## 대형마트와 전통시장의 연도별 가격 추이\n"
   ]
  },
  {
   "cell_type": "code",
   "execution_count": null,
   "id": "f614cf1f-8268-4eb2-87dd-b7fab6fc3dea",
   "metadata": {
    "scrolled": true
   },
   "outputs": [],
   "source": [
    "## 지역별 평균 고등어값 연도별 변화 추이\n",
    "plt.figure(figsize=(10, 5))\n",
    "\n",
    "group_by_check = file_go.groupby(['년도','시장유형 구분(시장/마트) 이름'])\n",
    "plot_a = group_by_check.mean().reset_index()\n",
    "\n",
    "sns.lineplot(plot_a['년도'], plot_a['가격(원)'], hue = plot_a['시장유형 구분(시장/마트) 이름'])\n",
    "plt.title('시장유형별 연도별 가격 추이')\n",
    "\n",
    "plt.show()"
   ]
  },
  {
   "cell_type": "markdown",
   "id": "8687e942",
   "metadata": {},
   "source": [
    "> 확인 결과 대형마트보다 전통시장이 저렴한 것으로 확인\\\n",
    "> 이 후 분석은 전통시장에 집중"
   ]
  },
  {
   "cell_type": "markdown",
   "id": "adb47f46-6c2d-45d6-8fb2-400c6995910d",
   "metadata": {},
   "source": [
    "## 전통시장의 자치구별 가격 추이\n"
   ]
  },
  {
   "cell_type": "code",
   "execution_count": null,
   "id": "bd48bfff-32bc-4ff9-8fad-d5a28b5a080f",
   "metadata": {},
   "outputs": [],
   "source": [
    "file_go_vis1 = file_go[['년도', '시장/마트 이름', '품목 이름', '가격(원)','시장유형 구분(시장/마트) 코드', '자치구 이름']]\n",
    "file_go_vis1_전통시장 = file_go_vis1[file_go_vis1['시장유형 구분(시장/마트) 코드'] == 1]"
   ]
  },
  {
   "cell_type": "code",
   "execution_count": null,
   "id": "2448545e-58ff-4f61-a4bf-208cacb694c7",
   "metadata": {
    "jupyter": {
     "outputs_hidden": true
    },
    "scrolled": false,
    "tags": []
   },
   "outputs": [],
   "source": [
    "plt.figure(figsize=(50, 30))\n",
    "for i,name_ in enumerate(file_go_vis1_전통시장['자치구 이름'].unique()):\n",
    "    file_go_vis1_전통시장_ = file_go_vis1_전통시장[file_go_vis1_전통시장['자치구 이름'] == f'{name_}']\n",
    "    file_go_vis1_전통시장['년도'] = file_go_vis1_전통시장['년도'].astype(int)\n",
    "    plt.subplot(5,5,i+1)\n",
    "    group_by_check = file_go_vis1_전통시장_.groupby(['년도', '시장/마트 이름'])\n",
    "    plt.ylim(0, 9000)\n",
    "    plt.xlim(2013,2020)\n",
    "    plot_a = group_by_check.mean().reset_index()\n",
    "\n",
    "    \n",
    "    sns.lineplot(plot_a['년도'], plot_a['가격(원)'], hue = plot_a['시장/마트 이름'])\n",
    "    plt.title(f'{name_} 전통시장 가격 추이')\n",
    "    \n",
    "plt.show()"
   ]
  },
  {
   "cell_type": "markdown",
   "id": "67302b6d",
   "metadata": {},
   "source": [
    "> 시장 간 차이가 적음\\\n",
    "> 합리적인 고등어 구매\n",
    ">> 전체 전통시장에서 서초, 강남(도곡), 강북, 성북(돈암) 구를 제외하면 높은 가격 안정성을 보여주었습니다.\n",
    "\n"
   ]
  },
  {
   "cell_type": "code",
   "execution_count": null,
   "id": "936d1cb9",
   "metadata": {},
   "outputs": [],
   "source": [
    "file_go[file_go['시장/마트 이름'] == '영동시장']"
   ]
  },
  {
   "cell_type": "markdown",
   "id": "0b3bc324",
   "metadata": {},
   "source": [
    "> 강남에서 급격하게 가격이 하락하며 다른 시장과 상이한 그래프를 보여준 영동시장은 따로 데이터를 추출\n",
    ">> 적은 수의 데이터와 이상치 수준의 2014년도 가격으로 인한 것을 확인"
   ]
  },
  {
   "cell_type": "markdown",
   "id": "6a2fadd0-1d72-4b80-bfb6-7551a49243a8",
   "metadata": {},
   "source": [
    "## 전통시장의 자치구별 품목에 따른 가격 추이\n",
    "\n"
   ]
  },
  {
   "cell_type": "code",
   "execution_count": null,
   "id": "2d92d099-e640-47ea-9373-d8c65c2572b4",
   "metadata": {
    "scrolled": false,
    "tags": []
   },
   "outputs": [],
   "source": [
    "file_go_vis2_전통시장 = file_go_vis1[file_go_vis1['시장유형 구분(시장/마트) 코드'] == 1]\n",
    "file_go_vis2_전통시장['년도'] = file_go_vis2_전통시장['년도'].astype(int)\n",
    "\n",
    "plt.figure(figsize=(50, 20))\n",
    "for i,name_ in enumerate(file_go_vis2_전통시장['자치구 이름'].unique()):\n",
    "    file_go_vis2_전통시장_ = file_go_vis2_전통시장[file_go_vis2_전통시장['자치구 이름'] == f'{name_}']\n",
    "    plt.subplot(5,5,i+1)\n",
    "    plt.subplots_adjust(left=0.125, bottom=0.1, right=0.9, top=0.9, wspace=0.2, hspace=0.3)\n",
    "    group_by_check = file_go_vis2_전통시장_.groupby(['년도', '시장/마트 이름', '품목 이름'])\n",
    "    plot_a = group_by_check.mean().reset_index()\n",
    "    plt.xlim(2013,2020)\n",
    "    plt.ylim(0,9000)\n",
    "    \n",
    "    # sns.lineplot(plot_a['년도'], plot_a['가격(원)'], hue = plot_a['품목 이름'])\n",
    "    for i in plot_a['품목 이름'].unique():\n",
    "        plot_b = plot_a[plot_a['품목 이름'] == i]\n",
    "        if i == '고등어(생물,국산)':\n",
    "            color = 'red'\n",
    "        elif i == '고등어(냉동,국산)':\n",
    "            color = 'blue'\n",
    "        elif i == '고등어(생물,수입산)':\n",
    "            color = 'black'\n",
    "        elif i == '고등어(냉동,수입산)':\n",
    "            color = 'green'\n",
    "        \n",
    "        sns.lineplot(plot_b['년도'], plot_b['가격(원)'], color = color, label=i, ci = None)\n",
    "    \n",
    "    \n",
    "    plt.title(f'{name_} 전통시장 가격 추이')\n",
    "    \n",
    "plt.show() "
   ]
  },
  {
   "cell_type": "markdown",
   "id": "955ac2b8",
   "metadata": {},
   "source": [
    "> 품목 별 가격 차이가 크지 않음을 확인\n",
    "\n",
    "> 대체로 대부분의 기간 동안 공급되는 품목은 고등어(생물, 국산)이었다\n",
    "\n",
    "> 고등어 분류에서 예상한 대로 생물,수입산은 거의 존재하지 않았다\n",
    "\n",
    "> 위 시각화에서 가격 변동이 컸던 부분은 특정 품목에서 견인된 경우가 있음을 확인 \n",
    ">> 가격 안정성이 떨어지는 자치구더라도 가격 인상이 없는 품목을 구매하면 안정적으로 구매가 가능\n",
    ">> 강북구 - 고등어(생물,국산) / 성북구 - 고등어(생물,국산)\n"
   ]
  },
  {
   "cell_type": "markdown",
   "id": "f976f0fd",
   "metadata": {},
   "source": [
    "![](./save1.jpg)"
   ]
  },
  {
   "cell_type": "markdown",
   "id": "bd43b517-eee4-42db-a0f9-ec76e915749a",
   "metadata": {},
   "source": [
    "## 대형마트의 자치구별  가격 추이\n",
    "\n"
   ]
  },
  {
   "cell_type": "code",
   "execution_count": null,
   "id": "4b44ec72-2de7-420b-a321-d7e466068cf9",
   "metadata": {
    "scrolled": false,
    "tags": []
   },
   "outputs": [],
   "source": [
    "file_go_vis2 = file_go[['년도', '시장/마트 이름', '품목 이름', '가격(원)','시장유형 구분(시장/마트) 코드', '자치구 이름']]\n",
    "file_go_vis2_전통시장 = file_go_vis1[file_go_vis1['시장유형 구분(시장/마트) 코드'] == 2]\n",
    "file_go_vis2_전통시장['년도'] = file_go_vis2_전통시장['년도'].astype(int)\n",
    "\n",
    "plt.figure(figsize=(50, 20))\n",
    "for i,name_ in enumerate(file_go_vis2_전통시장['자치구 이름'].unique()):\n",
    "    file_go_vis2_전통시장_ = file_go_vis2_전통시장[file_go_vis2_전통시장['자치구 이름'] == f'{name_}']\n",
    "    plt.subplot(5,5,i+1)\n",
    "    plt.subplots_adjust(left=0.125, bottom=0.1, right=0.9, top=0.9, wspace=0.2, hspace=0.3)\n",
    "    group_by_check = file_go_vis2_전통시장_.groupby(['년도', '시장/마트 이름', '품목 이름'])\n",
    "    plot_a = group_by_check.mean().reset_index()\n",
    "    plt.xlim(2013,2020)\n",
    "    plt.ylim(0,9000)\n",
    "    \n",
    "    # sns.lineplot(plot_a['년도'], plot_a['가격(원)'], hue = plot_a['품목 이름'])\n",
    "    for i in plot_a['품목 이름'].unique():\n",
    "        plot_b = plot_a[plot_a['품목 이름'] == i]\n",
    "        if i == '고등어(생물,국산)':\n",
    "            color = 'red'\n",
    "        elif i == '고등어(냉동,국산)':\n",
    "            color = 'blue'\n",
    "        elif i == '고등어(생물,수입산)':\n",
    "            color = 'black'\n",
    "        elif i == '고등어(냉동,수입산)':\n",
    "            color = 'green'\n",
    "        \n",
    "        sns.lineplot(plot_b['년도'], plot_b['가격(원)'], color = color, label=i, ci = None)\n",
    "    \n",
    "    \n",
    "    plt.title(f'{name_} 대형매장 가격 추이')\n",
    "    \n",
    "plt.show() "
   ]
  },
  {
   "cell_type": "markdown",
   "id": "78bf0c58",
   "metadata": {},
   "source": [
    "> 전통시장에 비해 비교적 품목 간의 가격 차이가 존재\n",
    "\n",
    "> 전통시장보다 품목의 다양성이 높다"
   ]
  },
  {
   "cell_type": "markdown",
   "id": "74a3d45c-f992-42c1-b29b-ce49a4f82cb1",
   "metadata": {},
   "source": [
    "## 자치구별 대형마트와 전통시장 \n",
    "\n",
    "> (동작구, 종로구 이외)자치구 별 판매처 갯수는 평이한 수준\n"
   ]
  },
  {
   "cell_type": "code",
   "execution_count": null,
   "id": "04f81843-39cb-468f-b5d4-dce3986e2783",
   "metadata": {
    "ExecuteTime": {
     "end_time": "2022-03-31T04:12:51.947353Z",
     "start_time": "2022-03-31T04:12:51.085138Z"
    }
   },
   "outputs": [],
   "source": [
    "## 시장개수 시각화\n",
    "data = pd.pivot_table(\n",
    "    file_go[['자치구 이름','시장/마트 이름','시장유형 구분(시장/마트) 이름']].drop_duplicates().reset_index(drop=True),\n",
    "    index = ['자치구 이름','시장유형 구분(시장/마트) 이름'],\n",
    "    values = '시장유형 구분(시장/마트) 이름',\n",
    "    aggfunc = 'count').reset_index()\n",
    "\n",
    "plt.figure(figsize=(18, 3))\n",
    "sns.barplot(data=data, x='자치구 이름',y='시장/마트 이름' ,hue='시장유형 구분(시장/마트) 이름')\n",
    "plt.show()"
   ]
  },
  {
   "cell_type": "markdown",
   "id": "82c6226d-a8dd-47ba-9206-775b197156a4",
   "metadata": {},
   "source": [
    "## 지역에 따른 고등어 가격 시각화(지도)"
   ]
  },
  {
   "cell_type": "markdown",
   "id": "c439438f-9bba-4727-91ee-94898c494ca3",
   "metadata": {},
   "source": [
    "> 맵시각화 라이브러리 import"
   ]
  },
  {
   "cell_type": "code",
   "execution_count": null,
   "id": "0c7a3534-dcbc-4939-8ea1-7f1306a6f478",
   "metadata": {
    "ExecuteTime": {
     "end_time": "2022-03-31T04:13:03.897745Z",
     "start_time": "2022-03-31T04:13:01.943385Z"
    },
    "jupyter": {
     "source_hidden": true
    },
    "tags": []
   },
   "outputs": [],
   "source": [
    "## 맵시각화 라이브러리 import\n",
    "import folium\n",
    "\n",
    "## 크롤링한 xy 좌표값 불러오기\n",
    "xy = pd.read_csv('/Users/greedy/Downloads/패스트캠퍼스/데이터 전처리/xy_total.csv', index_col=0)\n",
    "xy[\"시장/마트 이름\"]= xy[\"시장/마트 이름\"].str.replace(' ','')\n",
    "\n",
    "xy.loc[xy['시장/마트 이름'] == '롯데슈퍼',['x']]=37.5820264\n",
    "xy.loc[xy['시장/마트 이름'] == '롯데슈퍼',['y']]=126.935954\n",
    "## 크롤링한 xy 좌표값과 file_go 파일 합치기 \n",
    "file_go = pd.merge(file_go,xy, on = '시장/마트 이름', how='left')"
   ]
  },
  {
   "cell_type": "markdown",
   "id": "c12f0279-5e44-4861-9a41-4779db0790ee",
   "metadata": {},
   "source": [
    "> 서울시 좌표 get"
   ]
  },
  {
   "cell_type": "code",
   "execution_count": null,
   "id": "b71b03f4-7531-4e1f-b4c0-a0f05682bb04",
   "metadata": {
    "ExecuteTime": {
     "end_time": "2022-03-31T04:13:23.577398Z",
     "start_time": "2022-03-31T04:13:23.159703Z"
    },
    "jupyter": {
     "source_hidden": true
    },
    "tags": []
   },
   "outputs": [],
   "source": [
    "### 서울시 좌표 get ### \n",
    "import requests\n",
    "import json\n",
    "r = requests.get('https://raw.githubusercontent.com/southkorea/seoul-maps/master/kostat/2013/json/seoul_municipalities_geo_simple.json')\n",
    "c = r.content\n",
    "seoul_geo = json.loads(c)"
   ]
  },
  {
   "cell_type": "markdown",
   "id": "de7b2838-721f-4b6e-99b7-ef9b3963eda8",
   "metadata": {},
   "source": [
    "> 자주쓰는 시각화 함수화"
   ]
  },
  {
   "cell_type": "code",
   "execution_count": null,
   "id": "6046d2d2-defa-4906-94e2-fa828341e282",
   "metadata": {
    "ExecuteTime": {
     "end_time": "2022-03-31T06:12:03.884585Z",
     "start_time": "2022-03-31T06:12:03.675714Z"
    },
    "jupyter": {
     "source_hidden": true
    },
    "tags": []
   },
   "outputs": [],
   "source": [
    "## 자주쓰는 시각화 함수화 ###\n",
    "\n",
    "def map_circle(m):\n",
    "    # lat=file_go['x'].mean()\n",
    "    # long=file_go['y'].mean()\n",
    "    # m= folium.Map([lat,long],zoom_start=12)\n",
    "    #folium.GeoJson(seoul_geo, name='지역구').add_to(m)\n",
    "    \n",
    "    ### 전통시장 마트를 구분하기 위한 별도 df 준비 ### \n",
    "    xy_local = file_go.loc[file_go['시장유형 구분(시장/마트) 이름'] == '전통시장',['시장/마트 이름','x','y']].reset_index(drop=True)\n",
    "    xy_mart = file_go.loc[file_go['시장유형 구분(시장/마트) 이름'] == '대형마트',['시장/마트 이름','x','y']].reset_index(drop=True)\n",
    "\n",
    "    ### map 틀 그리기 ### \n",
    "    # m= folium.Map([lat,long],zoom_start=12)\n",
    "\n",
    "    ###### 전통시장 파란색 표시 ####\n",
    "\n",
    "    coords = []\n",
    "    for i in range(len(xy_local)):\n",
    "        x = xy_local['x'][i]\n",
    "        y = xy_local['y'][i]\n",
    "        tooltip_= xy_local['시장/마트 이름'][i]\n",
    "        coords.append([x, y,tooltip_])\n",
    "\n",
    "    for i in range(len(coords)):\n",
    "        folium.Circle(\n",
    "            location = coords[i][:2],\n",
    "            radius = 50,\n",
    "            color = 'blue',\n",
    "            tooltip = coords[i][2],\n",
    "            fill = 'crimson',\n",
    "            label = '전통시장'\n",
    "        ).add_to(m)\n",
    "\n",
    "    #### 대형마트 빨간색 표시  ####\n",
    "\n",
    "    coords = []\n",
    "    for i in range(len(xy_mart)):\n",
    "        x = xy_mart['x'][i]\n",
    "        y = xy_mart['y'][i]\n",
    "        tooltip_= xy_mart['시장/마트 이름'][i]\n",
    "        coords.append([x, y,tooltip_])\n",
    "\n",
    "    for i in range(len(coords)):\n",
    "        folium.Circle(\n",
    "            location = coords[i][:2],\n",
    "            radius = 50,\n",
    "            color = 'red',\n",
    "            tooltip = coords[i][2],\n",
    "            fill = 'red',\n",
    "            label = '대형마트'\n",
    "        ).add_to(m)\n",
    "    return(m)\n",
    "### 팝업 or 툴팁용 함수\n",
    "from copy import copy \n",
    "\n",
    "# 1. 좌표 찍고, 텍스트쓰고, 하는 함수\n",
    "def pop_up_tooltip(yourmap : \"덧씌우고 싶은 map 전달\", x: \"찍고자하는 x 좌표\", text : \"쓰고싶은 text 문자열로 전달\"):\n",
    "    from folium import IFrame\n",
    "    text = text \n",
    "    \n",
    "    iframe = folium.IFrame(text, width=175, height=150)\n",
    "    popup = folium.Popup(iframe, max_width=3000)\n",
    "    folium.Marker(location=x, popup=popup,\n",
    "                     icon=folium.Icon(icon_color='green', icon = 'info-sign')).add_to(yourmap)\n",
    "    return(yourmap)\n",
    "   \n",
    "\n",
    "# 2. 4지역으로 구분하기 위해선 계산에 사용되는 df 에 행추가 #\n",
    "\n",
    "## 기존 seoul_geo 데이터 셋 카피 > 날라가는 상황 대비\n",
    "seoul_geo__ = copy(seoul_geo)\n",
    "\n",
    "## section 구분 \n",
    "seoul1 = ['노원구', '도봉구', '강북구', '성북구', '동대문구', '중랑구', '성동구', '광진구']\n",
    "seoul2 = ['은평구', '마포구', '서대문구', '종로구', '중구', '용산구']\n",
    "seoul3 = ['강서구', '양천구', '구로구', '영등포구', '금천구', '동작구', '관악구']\n",
    "seoul4 = ['서초구', '강남구', '송파구', '강동구']\n",
    "\n",
    "## seoul_geo__ 에 section_4 key,value 추가.\n",
    "for i in range(len(seoul_geo__['features'])):\n",
    "    if seoul_geo__['features'][i]['properties']['name'] in seoul1:\n",
    "        seoul_geo__['features'][i]['properties']['section_4'] = 'seoul1'\n",
    "    elif seoul_geo__['features'][i]['properties']['name'] in seoul2:\n",
    "        seoul_geo__['features'][i]['properties']['section_4'] = 'seoul2'\n",
    "    elif seoul_geo__['features'][i]['properties']['name'] in seoul3:\n",
    "        seoul_geo__['features'][i]['properties']['section_4'] = 'seoul3'\n",
    "    elif seoul_geo__['features'][i]['properties']['name'] in seoul4:\n",
    "        seoul_geo__['features'][i]['properties']['section_4'] = 'seoul4'       \n",
    "        \n",
    "def section_4_add_column(x:'dataframe'):\n",
    "    temp_list = []\n",
    "    for i in range(len(x)):\n",
    "        if data.loc[i,'자치구 이름'] in seoul1:\n",
    "            temp_list.append('seoul1')\n",
    "        elif data.loc[i,'자치구 이름'] in seoul2:\n",
    "            temp_list.append('seoul2')\n",
    "        elif data.loc[i,'자치구 이름'] in seoul3:\n",
    "            temp_list.append('seoul3')\n",
    "        elif data.loc[i,'자치구 이름'] in seoul4:\n",
    "            temp_list.append('seoul4')\n",
    "    x['section_4_sep'] = temp_list"
   ]
  },
  {
   "cell_type": "code",
   "execution_count": null,
   "id": "c7f9ec33-56e3-44b5-b5ae-5b4b4655c077",
   "metadata": {
    "jupyter": {
     "outputs_hidden": true
    },
    "tags": []
   },
   "outputs": [],
   "source": [
    "## 시장개수 folium 패키지 사용하여 시각화\n",
    "lat=file_go['x'].mean()\n",
    "long=file_go['y'].mean()\n",
    "m2 = folium.Map([lat,long],zoom_start=12)\n",
    "### 자치구별 \n",
    "m2.choropleth(geo_data=seoul_geo,\n",
    "            data=data[['자치구 이름','시장/마트 이름']].groupby('자치구 이름')['시장/마트 이름'].sum(),\n",
    "            fill_color = 'YlOrRd',\n",
    "            fill_opacity=0.5,\n",
    "             line_opacity=0.2,\n",
    "            key_on='properties.name',\n",
    "             legend_name=\"지역구별 마트수\")\n",
    "map_circle(m2)"
   ]
  },
  {
   "cell_type": "code",
   "execution_count": null,
   "id": "73332ff5-9de8-4c39-8853-32a16301604a",
   "metadata": {
    "ExecuteTime": {
     "end_time": "2022-03-31T04:16:09.947349Z",
     "start_time": "2022-03-31T04:16:07.238817Z"
    },
    "jupyter": {
     "outputs_hidden": true
    },
    "tags": []
   },
   "outputs": [],
   "source": [
    "\n",
    "## 자치구별 평균 가격 지도 시각화 ##\n",
    "m1 = folium.Map([lat,long],zoom_start=12)\n",
    "### 자치구별 평균 가격 ###\n",
    "file_go_group_data = file_go[['자치구 이름', '가격(원)']].drop_duplicates().reset_index(drop=True).groupby('자치구 이름')['가격(원)'].mean()\n",
    "m1.choropleth(geo_data=seoul_geo,\n",
    "            data=file_go_group_data,\n",
    "            fill_color = 'YlOrRd',\n",
    "            fill_opacity=0.5,\n",
    "             line_opacity=0.2,\n",
    "            key_on='properties.name',\n",
    "             legend_name=\"지역구별 가격(원)\")\n",
    "map_circle(m1)"
   ]
  },
  {
   "cell_type": "code",
   "execution_count": null,
   "id": "a5055afd",
   "metadata": {
    "ExecuteTime": {
     "end_time": "2022-03-31T04:20:56.076154Z",
     "start_time": "2022-03-31T04:20:04.887727Z"
    },
    "jupyter": {
     "outputs_hidden": true
    },
    "tags": []
   },
   "outputs": [],
   "source": [
    "# 가격 안정성 기준(분산)\n",
    "m3 =folium.Map([lat,long],zoom_start=12)\n",
    "file_var = file_go[['자치구 이름', '가격(원)']].drop_duplicates().reset_index(drop=True).groupby('자치구 이름')['가격(원)'].var()\n",
    "\n",
    "m3.choropleth(geo_data=seoul_geo,\n",
    "            data=file_var,\n",
    "            fill_color = 'Oranges_r',\n",
    "            fill_opacity=0.5,\n",
    "             line_opacity=0.2,\n",
    "            key_on='properties.name',\n",
    "             legend_name=\"지역구별 가격(원) 안정성\")\n",
    "map_circle(m3)"
   ]
  },
  {
   "cell_type": "markdown",
   "id": "1f031a21-b9ef-41e0-823c-dfdbec98472a",
   "metadata": {},
   "source": [
    "# 마무리-구매처 추천 시스템"
   ]
  },
  {
   "cell_type": "code",
   "execution_count": null,
   "id": "3c1e4198",
   "metadata": {},
   "outputs": [],
   "source": [
    "from IPython.core.interactiveshell import InteractiveShell\n",
    "InteractiveShell.ast_node_interactivity = \"all\"\n",
    "\n",
    "def map_circle_(m, file_go):\n",
    "    \n",
    "    # lat=file_go['x'].mean()\n",
    "    # long=file_go['y'].mean()\n",
    "    # m= folium.Map([lat,long],zoom_start=12)\n",
    "    #folium.GeoJson(seoul_geo, name='지역구').add_to(m)\n",
    "    m.choropleth(geo_data=seoul_geo__,\n",
    "            data=tem2.groupby('자치구 이름')['가격(원)'].mean(),\n",
    "            fill_color = 'YlOrRd',\n",
    "            fill_opacity=0.5,\n",
    "            line_opacity=0.2,\n",
    "            key_on='properties.name',\n",
    "            legend_name=\"지역구별 평균가격\")\n",
    "    \n",
    "    \n",
    "    ### 전통시장 마트를 구분하기 위한 별도 df 준비 ### \n",
    "    xy_local = file_go.loc[file_go['시장유형 구분(시장/마트) 이름'] == '전통시장',['가격(원)','시장/마트 이름','x','y']].reset_index(drop=True)\n",
    "    xy_mart = file_go.loc[file_go['시장유형 구분(시장/마트) 이름'] == '대형마트',['가격(원)','시장/마트 이름','x','y']].reset_index(drop=True)\n",
    "\n",
    "    ### map 틀 그리기 ### \n",
    "    # m= folium.Map([lat,long],zoom_start=12)\n",
    "\n",
    "    ###### 전통시장 파란색 표시 ####\n",
    "\n",
    "    coords = []\n",
    "    for i in range(len(xy_local)):\n",
    "        x = xy_local['x'][i]\n",
    "        y = xy_local['y'][i]\n",
    "        tooltip_= str(xy_local.loc[i,'시장/마트 이름'])+\": \" + str(int(xy_local.loc[i,'가격(원)'])) + \"원\"\n",
    "        coords.append([x, y,tooltip_])\n",
    "\n",
    "    for i in range(len(coords)):\n",
    "        folium.Circle(\n",
    "            location = coords[i][:2],\n",
    "            radius = 50,\n",
    "            color = 'blue',\n",
    "            tooltip = coords[i][2],\n",
    "            fill = 'crimson',\n",
    "            label = '전통시장'\n",
    "        ).add_to(m)\n",
    "\n",
    "    #### 대형마트 빨간색 표시  ####\n",
    "\n",
    "    coords = []\n",
    "    for i in range(len(xy_mart)):\n",
    "        x = xy_mart['x'][i]\n",
    "        y = xy_mart['y'][i]\n",
    "        tooltip_= str(xy_mart.loc[i,'시장/마트 이름'])+ \":\" + str(int(xy_mart.loc[i,'가격(원)'])) + \"원\"\n",
    "        coords.append([x, y,tooltip_])\n",
    "\n",
    "    for i in range(len(coords)):\n",
    "        folium.Circle(\n",
    "            location = coords[i][:2],\n",
    "            radius = 50,\n",
    "            color = 'red',\n",
    "            tooltip = coords[i][2],\n",
    "            fill = 'red',\n",
    "            label = '대형마트'\n",
    "        ).add_to(m)\n",
    "    return(m)"
   ]
  },
  {
   "cell_type": "code",
   "execution_count": null,
   "id": "297365ba-e6d9-4513-90f1-9a3ae4ee8c17",
   "metadata": {
    "ExecuteTime": {
     "end_time": "2022-03-31T04:39:38.555142Z",
     "start_time": "2022-03-31T04:39:34.471738Z"
    },
    "scrolled": false
   },
   "outputs": [],
   "source": [
    "file2020=file_go[file_go['년도']== '2020']\n",
    "\n",
    "#자치구 대분류\n",
    "Seoul1 = ['노원구', '도봉구', '강북구', '성북구', '동대문구', '중랑구', '성동구', '광진구']\n",
    "Seoul2 = ['은평구', '마포구', '서대문구', '종로구', '중구', '용산구']\n",
    "Seoul3 = ['강서구', '양천구', '구로구', '영등포구', '금천구', '동작구', '관악구']\n",
    "Seoul4 = ['서초구', '강남구', '송파구', '강동구']\n",
    "\n",
    "try:\n",
    "    del m4\n",
    "except:\n",
    "    pass\n",
    "\n",
    "#자치구 입력\n",
    "gu = input('자치구를 입력하세요 : ')\n",
    "\n",
    "if gu in Seoul1:\n",
    "    tem1 = pd.DataFrame()\n",
    "    for i in Seoul1:\n",
    "        #해당 분류 구역 시장/마트 만들기\n",
    "        tem = file2020[file2020['자치구 이름'] == i][['시장/마트 이름','가격(원)']].groupby('시장/마트 이름').mean()\n",
    "        tem1 = pd.concat([tem1, tem])\n",
    "    #최저값 시장/마트\n",
    "    min1 = tem1['가격(원)'].idxmin()\n",
    "    minprice= int(tem1['가격(원)'].min())\n",
    "    #출력\n",
    "    print(f'해당 자치구 근방에서 가장 저렴한 시장/마트는 {min1}입니다.')\n",
    "    \n",
    "elif gu in Seoul2:\n",
    "    tem1 = pd.DataFrame()\n",
    "    for i in Seoul2:\n",
    "        #해당 분류 구역 시장/마트 만들기\n",
    "        tem = file2020[file2020['자치구 이름'] == i][['시장/마트 이름','가격(원)']].groupby('시장/마트 이름').mean()\n",
    "        tem1 = pd.concat([tem1, tem])\n",
    "    #최저값 시장/마트\n",
    "    min1 = tem1['가격(원)'].idxmin()\n",
    "    minprice= int(tem1['가격(원)'].min())\n",
    "    #출력\n",
    "    print(f'해당 자치구 근방에서 가장 저렴한 시장/마트는 {min1}입니다.')\n",
    "    \n",
    "elif gu in Seoul3:\n",
    "    tem1 = pd.DataFrame()\n",
    "    for i in Seoul3:\n",
    "        #해당 분류 구역 시장/마트 만들기\n",
    "        tem = file2020[file2020['자치구 이름'] == i][['시장/마트 이름','가격(원)']].groupby('시장/마트 이름').mean()\n",
    "        tem1 = pd.concat([tem1, tem])\n",
    "    #최저값 시장/마트\n",
    "    min1 = tem1['가격(원)'].idxmin()\n",
    "    minprice= int(tem1['가격(원)'].min())\n",
    "    #출력\n",
    "    print(f'해당 자치구 근방에서 가장 저렴한 시장/마트는 {min1}입니다.')\n",
    "    \n",
    "elif gu in Seoul4:\n",
    "    tem1 = pd.DataFrame()\n",
    "    for i in Seoul4:\n",
    "        #해당 분류 구역 시장/마트 만들기\n",
    "        tem = file2020[file2020['자치구 이름'] == i][['시장/마트 이름','가격(원)']].groupby('시장/마트 이름').mean()\n",
    "        tem1 = pd.concat([tem1, tem])\n",
    "    #최저값 시장/마트\n",
    "    min1 = tem1['가격(원)'].idxmin()\n",
    "    minprice= int(tem1['가격(원)'].min())\n",
    "    #출력\n",
    "    print(f'해당 자치구 근방에서 가장 저렴한 시장/마트는 {min1}입니다.')\n",
    "    \n",
    "else:\n",
    "    print(\"오탈자를 확인하세요\")\n",
    "\n",
    "tem2 = tem1.reset_index().merge(file2020[['시장유형 구분(시장/마트) 이름','시장/마트 이름', '자치구 이름']].drop_duplicates().reset_index(drop=True),  how='left').merge(xy.drop_duplicates(subset = '시장/마트 이름'),how='left')\n",
    "tem1.sort_values(by='가격(원)').round(0)\n",
    "m4 = folium.Map([tem2['x'].mean(),tem2['y'].mean()],zoom_start=12)\n",
    "cheap_xy = [tem2.loc[tem2['가격(원)'].idxmin(),'x'], tem2.loc[tem2['가격(원)'].idxmin(),'y']]\n",
    "map_circle_(m4,tem2)\n",
    "pop_up_tooltip(m4,cheap_xy,f'지역 최저가격:{minprice} 원' )\n"
   ]
  },
  {
   "cell_type": "markdown",
   "id": "760f693f",
   "metadata": {},
   "source": [
    "# 프로젝트를 마치며"
   ]
  },
  {
   "cell_type": "markdown",
   "id": "fb61db4f",
   "metadata": {},
   "source": [
    ">수업 중 사용하는 자료가 아니라 실제로 수집된 자료가 얼마나 많은 전처리를 해야하는지를 깨닫게 된 시간\n",
    "\n",
    ">많은 품목을 사용하여 복합적인 지표를 통해 가장 나은 판매처를 찾고싶었지만 비고 처리에 많은 시간을 사용하게 되면서 하지 못하게 되어 아쉽습니다."
   ]
  }
 ],
 "metadata": {
  "kernelspec": {
   "display_name": "Python 3 (ipykernel)",
   "language": "python",
   "name": "python3"
  },
  "language_info": {
   "codemirror_mode": {
    "name": "ipython",
    "version": 3
   },
   "file_extension": ".py",
   "mimetype": "text/x-python",
   "name": "python",
   "nbconvert_exporter": "python",
   "pygments_lexer": "ipython3",
   "version": "3.9.7"
  },
  "toc": {
   "base_numbering": 1,
   "nav_menu": {},
   "number_sections": true,
   "sideBar": true,
   "skip_h1_title": false,
   "title_cell": "Table of Contents",
   "title_sidebar": "Contents",
   "toc_cell": false,
   "toc_position": {
    "height": "713.5625px",
    "left": "54.53786087036133px",
    "top": "142.6458282470703px",
    "width": "280.3333435058594px"
   },
   "toc_section_display": true,
   "toc_window_display": true
  },
  "toc-autonumbering": true,
  "toc-showmarkdowntxt": false,
  "varInspector": {
   "cols": {
    "lenName": 16,
    "lenType": 16,
    "lenVar": 40
   },
   "kernels_config": {
    "python": {
     "delete_cmd_postfix": "",
     "delete_cmd_prefix": "del ",
     "library": "var_list.py",
     "varRefreshCmd": "print(var_dic_list())"
    },
    "r": {
     "delete_cmd_postfix": ") ",
     "delete_cmd_prefix": "rm(",
     "library": "var_list.r",
     "varRefreshCmd": "cat(var_dic_list()) "
    }
   },
   "position": {
    "height": "361.85px",
    "left": "1149.2px",
    "right": "20px",
    "top": "120px",
    "width": "350px"
   },
   "types_to_exclude": [
    "module",
    "function",
    "builtin_function_or_method",
    "instance",
    "_Feature"
   ],
   "window_display": false
  }
 },
 "nbformat": 4,
 "nbformat_minor": 5
}
